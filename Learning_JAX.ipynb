{
  "nbformat": 4,
  "nbformat_minor": 0,
  "metadata": {
    "colab": {
      "name": "Learning JAX.ipynb",
      "provenance": [],
      "authorship_tag": "ABX9TyOTy+0/9l8SthreM1yaRt7g",
      "include_colab_link": true
    },
    "kernelspec": {
      "name": "python3",
      "display_name": "Python 3"
    },
    "language_info": {
      "name": "python"
    },
    "accelerator": "TPU"
  },
  "cells": [
    {
      "cell_type": "markdown",
      "metadata": {
        "id": "view-in-github",
        "colab_type": "text"
      },
      "source": [
        "<a href=\"https://colab.research.google.com/github/artiomka/flax/blob/main/Learning_JAX.ipynb\" target=\"_parent\"><img src=\"https://colab.research.google.com/assets/colab-badge.svg\" alt=\"Open In Colab\"/></a>"
      ]
    },
    {
      "cell_type": "code",
      "metadata": {
        "id": "co479tkSJZ_c",
        "colab": {
          "base_uri": "https://localhost:8080/"
        },
        "outputId": "40548bdd-d0f4-41f3-e5c6-ac57ede05bac"
      },
      "source": [
        "!pip install -q --upgrade jax jaxlib\n",
        "!pip install -q flax"
      ],
      "execution_count": 2,
      "outputs": [
        {
          "output_type": "stream",
          "text": [
            "\u001b[?25l\r\u001b[K     |▌                               | 10 kB 25.8 MB/s eta 0:00:01\r\u001b[K     |█                               | 20 kB 13.5 MB/s eta 0:00:01\r\u001b[K     |█▍                              | 30 kB 10.1 MB/s eta 0:00:01\r\u001b[K     |█▉                              | 40 kB 9.2 MB/s eta 0:00:01\r\u001b[K     |██▎                             | 51 kB 5.3 MB/s eta 0:00:01\r\u001b[K     |██▊                             | 61 kB 5.8 MB/s eta 0:00:01\r\u001b[K     |███▎                            | 71 kB 5.8 MB/s eta 0:00:01\r\u001b[K     |███▊                            | 81 kB 6.5 MB/s eta 0:00:01\r\u001b[K     |████▏                           | 92 kB 6.3 MB/s eta 0:00:01\r\u001b[K     |████▋                           | 102 kB 5.4 MB/s eta 0:00:01\r\u001b[K     |█████                           | 112 kB 5.4 MB/s eta 0:00:01\r\u001b[K     |█████▌                          | 122 kB 5.4 MB/s eta 0:00:01\r\u001b[K     |██████                          | 133 kB 5.4 MB/s eta 0:00:01\r\u001b[K     |██████▌                         | 143 kB 5.4 MB/s eta 0:00:01\r\u001b[K     |███████                         | 153 kB 5.4 MB/s eta 0:00:01\r\u001b[K     |███████▍                        | 163 kB 5.4 MB/s eta 0:00:01\r\u001b[K     |███████▉                        | 174 kB 5.4 MB/s eta 0:00:01\r\u001b[K     |████████▎                       | 184 kB 5.4 MB/s eta 0:00:01\r\u001b[K     |████████▉                       | 194 kB 5.4 MB/s eta 0:00:01\r\u001b[K     |█████████▎                      | 204 kB 5.4 MB/s eta 0:00:01\r\u001b[K     |█████████▊                      | 215 kB 5.4 MB/s eta 0:00:01\r\u001b[K     |██████████▏                     | 225 kB 5.4 MB/s eta 0:00:01\r\u001b[K     |██████████▋                     | 235 kB 5.4 MB/s eta 0:00:01\r\u001b[K     |███████████                     | 245 kB 5.4 MB/s eta 0:00:01\r\u001b[K     |███████████▋                    | 256 kB 5.4 MB/s eta 0:00:01\r\u001b[K     |████████████                    | 266 kB 5.4 MB/s eta 0:00:01\r\u001b[K     |████████████▌                   | 276 kB 5.4 MB/s eta 0:00:01\r\u001b[K     |█████████████                   | 286 kB 5.4 MB/s eta 0:00:01\r\u001b[K     |█████████████▍                  | 296 kB 5.4 MB/s eta 0:00:01\r\u001b[K     |█████████████▉                  | 307 kB 5.4 MB/s eta 0:00:01\r\u001b[K     |██████████████▍                 | 317 kB 5.4 MB/s eta 0:00:01\r\u001b[K     |██████████████▉                 | 327 kB 5.4 MB/s eta 0:00:01\r\u001b[K     |███████████████▎                | 337 kB 5.4 MB/s eta 0:00:01\r\u001b[K     |███████████████▊                | 348 kB 5.4 MB/s eta 0:00:01\r\u001b[K     |████████████████▏               | 358 kB 5.4 MB/s eta 0:00:01\r\u001b[K     |████████████████▋               | 368 kB 5.4 MB/s eta 0:00:01\r\u001b[K     |█████████████████▏              | 378 kB 5.4 MB/s eta 0:00:01\r\u001b[K     |█████████████████▋              | 389 kB 5.4 MB/s eta 0:00:01\r\u001b[K     |██████████████████              | 399 kB 5.4 MB/s eta 0:00:01\r\u001b[K     |██████████████████▌             | 409 kB 5.4 MB/s eta 0:00:01\r\u001b[K     |███████████████████             | 419 kB 5.4 MB/s eta 0:00:01\r\u001b[K     |███████████████████▍            | 430 kB 5.4 MB/s eta 0:00:01\r\u001b[K     |███████████████████▉            | 440 kB 5.4 MB/s eta 0:00:01\r\u001b[K     |████████████████████▍           | 450 kB 5.4 MB/s eta 0:00:01\r\u001b[K     |████████████████████▉           | 460 kB 5.4 MB/s eta 0:00:01\r\u001b[K     |█████████████████████▎          | 471 kB 5.4 MB/s eta 0:00:01\r\u001b[K     |█████████████████████▊          | 481 kB 5.4 MB/s eta 0:00:01\r\u001b[K     |██████████████████████▏         | 491 kB 5.4 MB/s eta 0:00:01\r\u001b[K     |██████████████████████▋         | 501 kB 5.4 MB/s eta 0:00:01\r\u001b[K     |███████████████████████▏        | 512 kB 5.4 MB/s eta 0:00:01\r\u001b[K     |███████████████████████▋        | 522 kB 5.4 MB/s eta 0:00:01\r\u001b[K     |████████████████████████        | 532 kB 5.4 MB/s eta 0:00:01\r\u001b[K     |████████████████████████▌       | 542 kB 5.4 MB/s eta 0:00:01\r\u001b[K     |█████████████████████████       | 552 kB 5.4 MB/s eta 0:00:01\r\u001b[K     |█████████████████████████▍      | 563 kB 5.4 MB/s eta 0:00:01\r\u001b[K     |██████████████████████████      | 573 kB 5.4 MB/s eta 0:00:01\r\u001b[K     |██████████████████████████▍     | 583 kB 5.4 MB/s eta 0:00:01\r\u001b[K     |██████████████████████████▉     | 593 kB 5.4 MB/s eta 0:00:01\r\u001b[K     |███████████████████████████▎    | 604 kB 5.4 MB/s eta 0:00:01\r\u001b[K     |███████████████████████████▊    | 614 kB 5.4 MB/s eta 0:00:01\r\u001b[K     |████████████████████████████▏   | 624 kB 5.4 MB/s eta 0:00:01\r\u001b[K     |████████████████████████████▊   | 634 kB 5.4 MB/s eta 0:00:01\r\u001b[K     |█████████████████████████████▏  | 645 kB 5.4 MB/s eta 0:00:01\r\u001b[K     |█████████████████████████████▋  | 655 kB 5.4 MB/s eta 0:00:01\r\u001b[K     |██████████████████████████████  | 665 kB 5.4 MB/s eta 0:00:01\r\u001b[K     |██████████████████████████████▌ | 675 kB 5.4 MB/s eta 0:00:01\r\u001b[K     |███████████████████████████████ | 686 kB 5.4 MB/s eta 0:00:01\r\u001b[K     |███████████████████████████████▌| 696 kB 5.4 MB/s eta 0:00:01\r\u001b[K     |████████████████████████████████| 706 kB 5.4 MB/s eta 0:00:01\r\u001b[K     |████████████████████████████████| 708 kB 5.4 MB/s \n",
            "\u001b[?25h  Building wheel for jax (setup.py) ... \u001b[?25l\u001b[?25hdone\n",
            "\u001b[K     |████████████████████████████████| 183 kB 4.8 MB/s \n",
            "\u001b[K     |████████████████████████████████| 118 kB 9.6 MB/s \n",
            "\u001b[K     |████████████████████████████████| 57 kB 3.5 MB/s \n",
            "\u001b[?25h"
          ],
          "name": "stdout"
        }
      ]
    },
    {
      "cell_type": "code",
      "metadata": {
        "id": "fWlkdCWNYBO4"
      },
      "source": [
        "import jax.tools.colab_tpu\n",
        "jax.tools.colab_tpu.setup_tpu()"
      ],
      "execution_count": 1,
      "outputs": []
    },
    {
      "cell_type": "code",
      "metadata": {
        "id": "wq9DvHybJbBu"
      },
      "source": [
        "import flax.linen as nn\n",
        "import jax\n",
        "import jax.numpy as jnp\n",
        "from typing import Sequence, List, Tuple, Dict\n",
        "from jax import random"
      ],
      "execution_count": 4,
      "outputs": []
    },
    {
      "cell_type": "code",
      "metadata": {
        "colab": {
          "base_uri": "https://localhost:8080/"
        },
        "id": "rwyq1X52SZ-A",
        "outputId": "0d8ecdf9-878e-4fd1-8caf-b72cc7e3b19e"
      },
      "source": [
        "jax.devices()"
      ],
      "execution_count": 3,
      "outputs": [
        {
          "output_type": "execute_result",
          "data": {
            "text/plain": [
              "[TpuDevice(id=0, process_index=0, coords=(0,0,0), core_on_chip=0),\n",
              " TpuDevice(id=1, process_index=0, coords=(0,0,0), core_on_chip=1),\n",
              " TpuDevice(id=2, process_index=0, coords=(1,0,0), core_on_chip=0),\n",
              " TpuDevice(id=3, process_index=0, coords=(1,0,0), core_on_chip=1),\n",
              " TpuDevice(id=4, process_index=0, coords=(0,1,0), core_on_chip=0),\n",
              " TpuDevice(id=5, process_index=0, coords=(0,1,0), core_on_chip=1),\n",
              " TpuDevice(id=6, process_index=0, coords=(1,1,0), core_on_chip=0),\n",
              " TpuDevice(id=7, process_index=0, coords=(1,1,0), core_on_chip=1)]"
            ]
          },
          "metadata": {
            "tags": []
          },
          "execution_count": 3
        }
      ]
    },
    {
      "cell_type": "code",
      "metadata": {
        "id": "VhjWKs1gVxwE"
      },
      "source": [
        "class MLP(nn.Module):\n",
        "  features: Sequence[int]\n",
        "  @nn.compact\n",
        "  def __call__(self, x):\n",
        "    for f in self.features[:-1]:\n",
        "      x = nn.relu(nn.Dense(f)(x))\n",
        "    x = nn.Dense(self.features[-1])(x)\n",
        "    return x"
      ],
      "execution_count": 5,
      "outputs": []
    },
    {
      "cell_type": "code",
      "metadata": {
        "id": "pvGtmRhoV1WJ"
      },
      "source": [
        "model = MLP([12, 8, 4])"
      ],
      "execution_count": 6,
      "outputs": []
    },
    {
      "cell_type": "code",
      "metadata": {
        "id": "rSCzK-glWsHk"
      },
      "source": [
        "x = jnp.ones((32, 10))"
      ],
      "execution_count": 7,
      "outputs": []
    },
    {
      "cell_type": "code",
      "metadata": {
        "id": "-hBzB_iFWyFZ"
      },
      "source": [
        "variables = model.init(jax.random.PRNGKey(0), x)"
      ],
      "execution_count": 8,
      "outputs": []
    },
    {
      "cell_type": "code",
      "metadata": {
        "colab": {
          "base_uri": "https://localhost:8080/"
        },
        "id": "Q701obzWXVj7",
        "outputId": "4e8012a2-01f6-45b3-a6ca-ddd074b37c3f"
      },
      "source": [
        "list(variables.keys())"
      ],
      "execution_count": 9,
      "outputs": [
        {
          "output_type": "execute_result",
          "data": {
            "text/plain": [
              "['params']"
            ]
          },
          "metadata": {
            "tags": []
          },
          "execution_count": 9
        }
      ]
    },
    {
      "cell_type": "code",
      "metadata": {
        "id": "ySziBeZhXMYo"
      },
      "source": [
        "output = model.apply(variables, x)"
      ],
      "execution_count": 10,
      "outputs": []
    },
    {
      "cell_type": "code",
      "metadata": {
        "colab": {
          "base_uri": "https://localhost:8080/"
        },
        "id": "Ojjzk96eYGZ2",
        "outputId": "0b0392c7-64c6-4ea5-f9dc-153f12b314a7"
      },
      "source": [
        "output.shape"
      ],
      "execution_count": 11,
      "outputs": [
        {
          "output_type": "execute_result",
          "data": {
            "text/plain": [
              "(32, 4)"
            ]
          },
          "metadata": {
            "tags": []
          },
          "execution_count": 11
        }
      ]
    },
    {
      "cell_type": "code",
      "metadata": {
        "id": "Rr06CFyzYHq2"
      },
      "source": [
        "class CNN(nn.Module):\n",
        "  @nn.compact\n",
        "  def __call__(self, x):\n",
        "    x = nn.Conv(32, (3,3))(x)\n",
        "    x = nn.relu(x)\n",
        "    x = nn.avg_pool(x, window_shape=(2,2), strides=(2,2))\n",
        "    x = nn.Conv(64, (3,3))(x)\n",
        "    x = nn.relu(x)\n",
        "    x = nn.avg_pool(x, window_shape=(2,2), strides=(2,2))\n",
        "    x = x.reshape((x.shape[0], -1))\n",
        "    x = nn.Dense(features=256)(x)\n",
        "    x = nn.relu(x)\n",
        "    x = nn.Dense(10)(x)\n",
        "    x = nn.log_softmax(x)\n",
        "    return x\n",
        "\n",
        "\n"
      ],
      "execution_count": 12,
      "outputs": []
    },
    {
      "cell_type": "code",
      "metadata": {
        "id": "elYoAeJ2aQP7"
      },
      "source": [
        "model2 = CNN()"
      ],
      "execution_count": 13,
      "outputs": []
    },
    {
      "cell_type": "code",
      "metadata": {
        "id": "69Ytdc7AaR_b"
      },
      "source": [
        "x = jnp.ones((32, 128, 128, 3))"
      ],
      "execution_count": 14,
      "outputs": []
    },
    {
      "cell_type": "code",
      "metadata": {
        "id": "AHs3xvEVaYFh"
      },
      "source": [
        "variables = model2.init(jax.random.PRNGKey(0), x)"
      ],
      "execution_count": 15,
      "outputs": []
    },
    {
      "cell_type": "code",
      "metadata": {
        "id": "JPtSPTW3agfQ"
      },
      "source": [
        "output = model2.apply(variables, x)"
      ],
      "execution_count": 16,
      "outputs": []
    },
    {
      "cell_type": "code",
      "metadata": {
        "id": "-QX2ufqda7kx",
        "colab": {
          "base_uri": "https://localhost:8080/"
        },
        "outputId": "f3f8bc6c-9ea4-4641-8323-ade8aba16644"
      },
      "source": [
        "output.shape"
      ],
      "execution_count": 17,
      "outputs": [
        {
          "output_type": "execute_result",
          "data": {
            "text/plain": [
              "(32, 10)"
            ]
          },
          "metadata": {
            "tags": []
          },
          "execution_count": 17
        }
      ]
    },
    {
      "cell_type": "code",
      "metadata": {
        "id": "Xg63ELqQa85V"
      },
      "source": [
        "from jax import grad"
      ],
      "execution_count": 18,
      "outputs": []
    },
    {
      "cell_type": "code",
      "metadata": {
        "id": "1zSNVoMzQefR"
      },
      "source": [
        "def f(x):\n",
        "  if x > 0:\n",
        "    return 2*x ** 3\n",
        "  else:\n",
        "    return 3 *x "
      ],
      "execution_count": 19,
      "outputs": []
    },
    {
      "cell_type": "code",
      "metadata": {
        "id": "uoiXVmnVQieq"
      },
      "source": [
        "key = random.PRNGKey(0)\n",
        "x = random.normal(key, ())"
      ],
      "execution_count": 20,
      "outputs": []
    },
    {
      "cell_type": "code",
      "metadata": {
        "colab": {
          "base_uri": "https://localhost:8080/"
        },
        "id": "u5eBsGl-Qnao",
        "outputId": "3015a81a-05d1-4d3d-c5c4-73bc49eba046"
      },
      "source": [
        "print(grad(f)(x))\n",
        "print(grad(f)(-x))"
      ],
      "execution_count": 21,
      "outputs": [
        {
          "output_type": "stream",
          "text": [
            "3.0\n",
            "0.25422648\n"
          ],
          "name": "stdout"
        }
      ]
    },
    {
      "cell_type": "markdown",
      "metadata": {
        "id": "ReDmKBrrQqUR"
      },
      "source": [
        "# JIT"
      ]
    },
    {
      "cell_type": "code",
      "metadata": {
        "id": "Q30bkazgQwZA"
      },
      "source": [
        "from jax import jit"
      ],
      "execution_count": 22,
      "outputs": []
    },
    {
      "cell_type": "code",
      "metadata": {
        "id": "F3eHLcnCQxVB"
      },
      "source": [
        "key = random.PRNGKey(0)\n",
        "x = random.normal(key, (500, 500))\n"
      ],
      "execution_count": 23,
      "outputs": []
    },
    {
      "cell_type": "markdown",
      "metadata": {
        "id": "XvIc_N_jQ2kX"
      },
      "source": [
        "# VMAP"
      ]
    },
    {
      "cell_type": "code",
      "metadata": {
        "id": "RD0KKxceRQOj"
      },
      "source": [
        "from jax import vmap"
      ],
      "execution_count": 24,
      "outputs": []
    },
    {
      "cell_type": "code",
      "metadata": {
        "colab": {
          "base_uri": "https://localhost:8080/"
        },
        "id": "xamBP9ypRSB8",
        "outputId": "9013fc39-67c2-44c7-c560-7a15e37f1802"
      },
      "source": [
        "print(vmap(lambda x: x**2)(jnp.arange(8)))"
      ],
      "execution_count": 25,
      "outputs": [
        {
          "output_type": "stream",
          "text": [
            "[ 0  1  4  9 16 25 36 49]\n"
          ],
          "name": "stdout"
        }
      ]
    },
    {
      "cell_type": "code",
      "metadata": {
        "id": "9CHlaH6TRWWg"
      },
      "source": [
        "from jax import make_jaxpr"
      ],
      "execution_count": 26,
      "outputs": []
    },
    {
      "cell_type": "code",
      "metadata": {
        "colab": {
          "base_uri": "https://localhost:8080/"
        },
        "id": "g6kd-vwfRY4I",
        "outputId": "ea4c0e50-ff57-47ed-ad2c-c172ed23f5a5"
      },
      "source": [
        "make_jaxpr(jnp.dot)(jnp.ones(8), jnp.ones(8))"
      ],
      "execution_count": 27,
      "outputs": [
        {
          "output_type": "execute_result",
          "data": {
            "text/plain": [
              "{ lambda  ; a b.\n",
              "  let c = dot_general[ dimension_numbers=(((0,), (0,)), ((), ()))\n",
              "                       precision=None\n",
              "                       preferred_element_type=None ] a b\n",
              "  in (c,) }"
            ]
          },
          "metadata": {
            "tags": []
          },
          "execution_count": 27
        }
      ]
    },
    {
      "cell_type": "code",
      "metadata": {
        "colab": {
          "base_uri": "https://localhost:8080/"
        },
        "id": "OAA4KIoVRd8A",
        "outputId": "102c61bb-b932-48c7-f2b8-d42fbf8188e9"
      },
      "source": [
        "make_jaxpr(vmap(jnp.dot))(jnp.ones((10, 8)), jnp.ones((10, 8)))"
      ],
      "execution_count": 28,
      "outputs": [
        {
          "output_type": "execute_result",
          "data": {
            "text/plain": [
              "{ lambda  ; a b.\n",
              "  let c = dot_general[ dimension_numbers=(((1,), (1,)), ((0,), (0,)))\n",
              "                       precision=None\n",
              "                       preferred_element_type=None ] a b\n",
              "  in (c,) }"
            ]
          },
          "metadata": {
            "tags": []
          },
          "execution_count": 28
        }
      ]
    },
    {
      "cell_type": "markdown",
      "metadata": {
        "id": "PWOC2fo0Rn5O"
      },
      "source": [
        "# PMAP"
      ]
    },
    {
      "cell_type": "code",
      "metadata": {
        "colab": {
          "base_uri": "https://localhost:8080/"
        },
        "id": "8RlcwWCkRzXT",
        "outputId": "a044d2cf-66fe-4ad9-86b0-74efdf55dc00"
      },
      "source": [
        "jax.devices()"
      ],
      "execution_count": 29,
      "outputs": [
        {
          "output_type": "execute_result",
          "data": {
            "text/plain": [
              "[TpuDevice(id=0, process_index=0, coords=(0,0,0), core_on_chip=0),\n",
              " TpuDevice(id=1, process_index=0, coords=(0,0,0), core_on_chip=1),\n",
              " TpuDevice(id=2, process_index=0, coords=(1,0,0), core_on_chip=0),\n",
              " TpuDevice(id=3, process_index=0, coords=(1,0,0), core_on_chip=1),\n",
              " TpuDevice(id=4, process_index=0, coords=(0,1,0), core_on_chip=0),\n",
              " TpuDevice(id=5, process_index=0, coords=(0,1,0), core_on_chip=1),\n",
              " TpuDevice(id=6, process_index=0, coords=(1,1,0), core_on_chip=0),\n",
              " TpuDevice(id=7, process_index=0, coords=(1,1,0), core_on_chip=1)]"
            ]
          },
          "metadata": {
            "tags": []
          },
          "execution_count": 29
        }
      ]
    },
    {
      "cell_type": "code",
      "metadata": {
        "id": "EpkbkIIRR1kv"
      },
      "source": [
        "from jax import pmap"
      ],
      "execution_count": 30,
      "outputs": []
    },
    {
      "cell_type": "code",
      "metadata": {
        "id": "W6dX8S7vR32e"
      },
      "source": [
        "y = pmap(lambda x: x**2)(jnp.arange(8))"
      ],
      "execution_count": 31,
      "outputs": []
    },
    {
      "cell_type": "code",
      "metadata": {
        "id": "Z3JYYseOR8xO"
      },
      "source": [
        "keys = random.split(random.PRNGKey(0), 8)"
      ],
      "execution_count": 32,
      "outputs": []
    },
    {
      "cell_type": "code",
      "metadata": {
        "id": "lRi2MDo4aAZh"
      },
      "source": [
        "mats = pmap(lambda key: random.normal(key, (5000, 5000)))(keys)"
      ],
      "execution_count": 33,
      "outputs": []
    },
    {
      "cell_type": "code",
      "metadata": {
        "colab": {
          "base_uri": "https://localhost:8080/"
        },
        "id": "UN15WEzpaIIF",
        "outputId": "4a242f8b-bf22-49e9-fc13-12d043fa675d"
      },
      "source": [
        "mats.shape"
      ],
      "execution_count": 34,
      "outputs": [
        {
          "output_type": "execute_result",
          "data": {
            "text/plain": [
              "(8, 5000, 5000)"
            ]
          },
          "metadata": {
            "tags": []
          },
          "execution_count": 34
        }
      ]
    },
    {
      "cell_type": "code",
      "metadata": {
        "id": "aC5shleAaI-c"
      },
      "source": [
        "result = pmap(jnp.dot)(mats, mats)"
      ],
      "execution_count": 35,
      "outputs": []
    },
    {
      "cell_type": "code",
      "metadata": {
        "colab": {
          "base_uri": "https://localhost:8080/"
        },
        "id": "V-8Br0TSaOsH",
        "outputId": "24f37ff2-3529-414f-c7f1-05d8bf9fae6c"
      },
      "source": [
        "result.shape"
      ],
      "execution_count": 36,
      "outputs": [
        {
          "output_type": "execute_result",
          "data": {
            "text/plain": [
              "(8, 5000, 5000)"
            ]
          },
          "metadata": {
            "tags": []
          },
          "execution_count": 36
        }
      ]
    },
    {
      "cell_type": "markdown",
      "metadata": {
        "id": "h5mSmiMIaPuL"
      },
      "source": [
        "## Communication operations"
      ]
    },
    {
      "cell_type": "code",
      "metadata": {
        "id": "zeh9XPEvaUMy"
      },
      "source": [
        "from functools import partial\n",
        "from jax.lax import psum"
      ],
      "execution_count": 37,
      "outputs": []
    },
    {
      "cell_type": "code",
      "metadata": {
        "id": "QzhQdr78acrc"
      },
      "source": [
        "@partial(pmap, axis_name='i')\n",
        "def f(x):\n",
        "  total = psum(x, 'i')\n",
        "  return x/total, total"
      ],
      "execution_count": 38,
      "outputs": []
    },
    {
      "cell_type": "code",
      "metadata": {
        "id": "N4qOlrBjakNf"
      },
      "source": [
        "normalized, total = f((jnp.arange(8.)))"
      ],
      "execution_count": 39,
      "outputs": []
    },
    {
      "cell_type": "code",
      "metadata": {
        "colab": {
          "base_uri": "https://localhost:8080/"
        },
        "id": "qEas761yjTLv",
        "outputId": "a9e2deb1-ad43-4e5d-9cc0-e5585590430d"
      },
      "source": [
        "print('normalized', normalized)"
      ],
      "execution_count": 40,
      "outputs": [
        {
          "output_type": "stream",
          "text": [
            "normalized [0.         0.03571429 0.07142857 0.10714287 0.14285715 0.17857143\n",
            " 0.21428573 0.25      ]\n"
          ],
          "name": "stdout"
        }
      ]
    },
    {
      "cell_type": "code",
      "metadata": {
        "colab": {
          "base_uri": "https://localhost:8080/"
        },
        "id": "zLRFmckijVYV",
        "outputId": "35379ed1-91a0-4fb8-d4e2-b8cc33a1f691"
      },
      "source": [
        "print(total)"
      ],
      "execution_count": 41,
      "outputs": [
        {
          "output_type": "stream",
          "text": [
            "[28. 28. 28. 28. 28. 28. 28. 28.]\n"
          ],
          "name": "stdout"
        }
      ]
    },
    {
      "cell_type": "markdown",
      "metadata": {
        "id": "KLtO9C7vjWvm"
      },
      "source": [
        "## PJIT"
      ]
    },
    {
      "cell_type": "code",
      "metadata": {
        "id": "kbo0xbRcnQVR"
      },
      "source": [
        "from jax.experimental.pjit import pjit, PartitionSpec as P\n",
        "from jax.experimental.maps import mesh\n",
        "from jax import lax"
      ],
      "execution_count": 44,
      "outputs": []
    },
    {
      "cell_type": "code",
      "metadata": {
        "id": "dzv15hknnXtH"
      },
      "source": [
        "conv = lambda image, kernel: lax.conv(image, kernel, (1,1), 'SAME')"
      ],
      "execution_count": 45,
      "outputs": []
    },
    {
      "cell_type": "code",
      "metadata": {
        "id": "IjN0AGMcneoR"
      },
      "source": [
        "import numpy as np\n",
        "image = jnp.ones((1, 16, 2000, 1000)).astype(np.float32)\n",
        "kernel = jnp.array(np.random.random((8, 16, 5, 5)).astype(np.float32))\n",
        "np.set_printoptions(edgeitems=1)"
      ],
      "execution_count": 48,
      "outputs": []
    },
    {
      "cell_type": "code",
      "metadata": {
        "colab": {
          "base_uri": "https://localhost:8080/"
        },
        "id": "oZc8dkDgnnXd",
        "outputId": "7ca67a08-4ced-464c-d246-b7fc1909aea6"
      },
      "source": [
        "out = conv(image, kernel)\n",
        "out.shape"
      ],
      "execution_count": 49,
      "outputs": [
        {
          "output_type": "execute_result",
          "data": {
            "text/plain": [
              "(1, 8, 2000, 1000)"
            ]
          },
          "metadata": {
            "tags": []
          },
          "execution_count": 49
        }
      ]
    },
    {
      "cell_type": "code",
      "metadata": {
        "id": "E5-86XrrnqWG"
      },
      "source": [
        "mesh_shape = (4,2)\n",
        "mesh_devices = np.array(jax.devices()).reshape(mesh_shape)"
      ],
      "execution_count": 50,
      "outputs": []
    },
    {
      "cell_type": "code",
      "metadata": {
        "id": "FHWLcuKJoA7s"
      },
      "source": [
        "mesh_axis_names = ('x', 'y')"
      ],
      "execution_count": 51,
      "outputs": []
    },
    {
      "cell_type": "code",
      "metadata": {
        "colab": {
          "base_uri": "https://localhost:8080/"
        },
        "id": "70tk8JkIoDIL",
        "outputId": "201bdb1a-1b08-4323-a717-3654ed07d87f"
      },
      "source": [
        "image_partitions = P(None, None, 'x', 'y')\n",
        "parallel_conv = pjit(conv, in_axis_resources=(image_partitions, None), \n",
        "                     out_axis_resources=image_partitions)"
      ],
      "execution_count": 52,
      "outputs": [
        {
          "output_type": "stream",
          "text": [
            "/usr/local/lib/python3.7/dist-packages/jax/experimental/pjit.py:160: UserWarning: pjit is an experimental feature and probably has bugs!\n",
            "  warn(\"pjit is an experimental feature and probably has bugs!\")\n"
          ],
          "name": "stderr"
        }
      ]
    },
    {
      "cell_type": "code",
      "metadata": {
        "colab": {
          "base_uri": "https://localhost:8080/",
          "height": 358
        },
        "id": "zQoM6IN1pKte",
        "outputId": "5dda487a-0dc8-4552-abaa-edb2846c454e"
      },
      "source": [
        "with mesh(mesh_devices, mesh_axis_names):\n",
        "  r = parallel_conv(image, kernel)\n",
        "r.shape"
      ],
      "execution_count": 56,
      "outputs": [
        {
          "output_type": "error",
          "ename": "RuntimeError",
          "evalue": "ignored",
          "traceback": [
            "\u001b[0;31m---------------------------------------------------------------------------\u001b[0m",
            "\u001b[0;31mRuntimeError\u001b[0m                              Traceback (most recent call last)",
            "\u001b[0;32m<ipython-input-56-93458ba869b0>\u001b[0m in \u001b[0;36m<module>\u001b[0;34m()\u001b[0m\n\u001b[1;32m      1\u001b[0m \u001b[0;32mwith\u001b[0m \u001b[0mmesh\u001b[0m\u001b[0;34m(\u001b[0m\u001b[0mmesh_devices\u001b[0m\u001b[0;34m,\u001b[0m \u001b[0mmesh_axis_names\u001b[0m\u001b[0;34m)\u001b[0m\u001b[0;34m:\u001b[0m\u001b[0;34m\u001b[0m\u001b[0;34m\u001b[0m\u001b[0m\n\u001b[0;32m----> 2\u001b[0;31m   \u001b[0mr\u001b[0m \u001b[0;34m=\u001b[0m \u001b[0mparallel_conv\u001b[0m\u001b[0;34m(\u001b[0m\u001b[0mimage\u001b[0m\u001b[0;34m,\u001b[0m \u001b[0mkernel\u001b[0m\u001b[0;34m)\u001b[0m\u001b[0;34m\u001b[0m\u001b[0;34m\u001b[0m\u001b[0m\n\u001b[0m\u001b[1;32m      3\u001b[0m \u001b[0mr\u001b[0m\u001b[0;34m.\u001b[0m\u001b[0mshape\u001b[0m\u001b[0;34m\u001b[0m\u001b[0;34m\u001b[0m\u001b[0m\n",
            "\u001b[0;32m/usr/local/lib/python3.7/dist-packages/jax/experimental/pjit.py\u001b[0m in \u001b[0;36mwrapped\u001b[0;34m(*args, **kwargs)\u001b[0m\n\u001b[1;32m    225\u001b[0m         \u001b[0mresource_env\u001b[0m\u001b[0;34m=\u001b[0m\u001b[0mresource_env\u001b[0m\u001b[0;34m,\u001b[0m\u001b[0;34m\u001b[0m\u001b[0;34m\u001b[0m\u001b[0m\n\u001b[1;32m    226\u001b[0m         \u001b[0mdonated_invars\u001b[0m\u001b[0;34m=\u001b[0m\u001b[0mdonated_invars\u001b[0m\u001b[0;34m,\u001b[0m\u001b[0;34m\u001b[0m\u001b[0;34m\u001b[0m\u001b[0m\n\u001b[0;32m--> 227\u001b[0;31m         name=flat_fun.__name__)\n\u001b[0m\u001b[1;32m    228\u001b[0m     \u001b[0;32mreturn\u001b[0m \u001b[0mtree_unflatten\u001b[0m\u001b[0;34m(\u001b[0m\u001b[0mout_tree\u001b[0m\u001b[0;34m(\u001b[0m\u001b[0;34m)\u001b[0m\u001b[0;34m,\u001b[0m \u001b[0mout\u001b[0m\u001b[0;34m)\u001b[0m\u001b[0;34m\u001b[0m\u001b[0;34m\u001b[0m\u001b[0m\n\u001b[1;32m    229\u001b[0m \u001b[0;34m\u001b[0m\u001b[0m\n",
            "\u001b[0;32m/usr/local/lib/python3.7/dist-packages/jax/core.py\u001b[0m in \u001b[0;36mbind\u001b[0;34m(self, *args, **params)\u001b[0m\n\u001b[1;32m    262\u001b[0m         args, used_axis_names(self, params) if self._dispatch_on_params else None)\n\u001b[1;32m    263\u001b[0m     \u001b[0mtracers\u001b[0m \u001b[0;34m=\u001b[0m \u001b[0mmap\u001b[0m\u001b[0;34m(\u001b[0m\u001b[0mtop_trace\u001b[0m\u001b[0;34m.\u001b[0m\u001b[0mfull_raise\u001b[0m\u001b[0;34m,\u001b[0m \u001b[0margs\u001b[0m\u001b[0;34m)\u001b[0m\u001b[0;34m\u001b[0m\u001b[0;34m\u001b[0m\u001b[0m\n\u001b[0;32m--> 264\u001b[0;31m     \u001b[0mout\u001b[0m \u001b[0;34m=\u001b[0m \u001b[0mtop_trace\u001b[0m\u001b[0;34m.\u001b[0m\u001b[0mprocess_primitive\u001b[0m\u001b[0;34m(\u001b[0m\u001b[0mself\u001b[0m\u001b[0;34m,\u001b[0m \u001b[0mtracers\u001b[0m\u001b[0;34m,\u001b[0m \u001b[0mparams\u001b[0m\u001b[0;34m)\u001b[0m\u001b[0;34m\u001b[0m\u001b[0;34m\u001b[0m\u001b[0m\n\u001b[0m\u001b[1;32m    265\u001b[0m     \u001b[0;32mreturn\u001b[0m \u001b[0mmap\u001b[0m\u001b[0;34m(\u001b[0m\u001b[0mfull_lower\u001b[0m\u001b[0;34m,\u001b[0m \u001b[0mout\u001b[0m\u001b[0;34m)\u001b[0m \u001b[0;32mif\u001b[0m \u001b[0mself\u001b[0m\u001b[0;34m.\u001b[0m\u001b[0mmultiple_results\u001b[0m \u001b[0;32melse\u001b[0m \u001b[0mfull_lower\u001b[0m\u001b[0;34m(\u001b[0m\u001b[0mout\u001b[0m\u001b[0;34m)\u001b[0m\u001b[0;34m\u001b[0m\u001b[0;34m\u001b[0m\u001b[0m\n\u001b[1;32m    266\u001b[0m \u001b[0;34m\u001b[0m\u001b[0m\n",
            "\u001b[0;32m/usr/local/lib/python3.7/dist-packages/jax/core.py\u001b[0m in \u001b[0;36mprocess_primitive\u001b[0;34m(self, primitive, tracers, params)\u001b[0m\n\u001b[1;32m    601\u001b[0m   \u001b[0mlift\u001b[0m \u001b[0;34m=\u001b[0m \u001b[0msublift\u001b[0m \u001b[0;34m=\u001b[0m \u001b[0mpure\u001b[0m\u001b[0;34m\u001b[0m\u001b[0;34m\u001b[0m\u001b[0m\n\u001b[1;32m    602\u001b[0m \u001b[0;34m\u001b[0m\u001b[0m\n\u001b[0;32m--> 603\u001b[0;31m   \u001b[0;32mdef\u001b[0m \u001b[0mprocess_primitive\u001b[0m\u001b[0;34m(\u001b[0m\u001b[0mself\u001b[0m\u001b[0;34m,\u001b[0m \u001b[0mprimitive\u001b[0m\u001b[0;34m,\u001b[0m \u001b[0mtracers\u001b[0m\u001b[0;34m,\u001b[0m \u001b[0mparams\u001b[0m\u001b[0;34m)\u001b[0m\u001b[0;34m:\u001b[0m\u001b[0;34m\u001b[0m\u001b[0;34m\u001b[0m\u001b[0m\n\u001b[0m\u001b[1;32m    604\u001b[0m     \u001b[0;32mreturn\u001b[0m \u001b[0mprimitive\u001b[0m\u001b[0;34m.\u001b[0m\u001b[0mimpl\u001b[0m\u001b[0;34m(\u001b[0m\u001b[0;34m*\u001b[0m\u001b[0mtracers\u001b[0m\u001b[0;34m,\u001b[0m \u001b[0;34m**\u001b[0m\u001b[0mparams\u001b[0m\u001b[0;34m)\u001b[0m\u001b[0;34m\u001b[0m\u001b[0;34m\u001b[0m\u001b[0m\n\u001b[1;32m    605\u001b[0m \u001b[0;34m\u001b[0m\u001b[0m\n",
            "\u001b[0;32m/usr/local/lib/python3.7/dist-packages/jax/experimental/pjit.py\u001b[0m in \u001b[0;36m_pjit_call_impl\u001b[0;34m(jaxpr, in_axis_resources, out_axis_resources, resource_env, donated_invars, name, *args)\u001b[0m\n\u001b[1;32m    392\u001b[0m   compiled = pjit_callable(\n\u001b[1;32m    393\u001b[0m       \u001b[0mjaxpr\u001b[0m\u001b[0;34m,\u001b[0m \u001b[0min_axis_resources\u001b[0m\u001b[0;34m,\u001b[0m \u001b[0mout_axis_resources\u001b[0m\u001b[0;34m,\u001b[0m\u001b[0;34m\u001b[0m\u001b[0;34m\u001b[0m\u001b[0m\n\u001b[0;32m--> 394\u001b[0;31m       resource_env, donated_invars, name)\n\u001b[0m\u001b[1;32m    395\u001b[0m   distributed_debug_log((\"Running pjit'd function\", name),\n\u001b[1;32m    396\u001b[0m                         (\"mesh\", resource_env.physical_mesh))\n",
            "\u001b[0;32m/usr/local/lib/python3.7/dist-packages/jax/_src/util.py\u001b[0m in \u001b[0;36mwrapper\u001b[0;34m(*args, **kwargs)\u001b[0m\n\u001b[1;32m    184\u001b[0m         \u001b[0;32mreturn\u001b[0m \u001b[0mf\u001b[0m\u001b[0;34m(\u001b[0m\u001b[0;34m*\u001b[0m\u001b[0margs\u001b[0m\u001b[0;34m,\u001b[0m \u001b[0;34m**\u001b[0m\u001b[0mkwargs\u001b[0m\u001b[0;34m)\u001b[0m\u001b[0;34m\u001b[0m\u001b[0;34m\u001b[0m\u001b[0m\n\u001b[1;32m    185\u001b[0m       \u001b[0;32melse\u001b[0m\u001b[0;34m:\u001b[0m\u001b[0;34m\u001b[0m\u001b[0;34m\u001b[0m\u001b[0m\n\u001b[0;32m--> 186\u001b[0;31m         \u001b[0;32mreturn\u001b[0m \u001b[0mcached\u001b[0m\u001b[0;34m(\u001b[0m\u001b[0mconfig\u001b[0m\u001b[0;34m.\u001b[0m\u001b[0m_trace_context\u001b[0m\u001b[0;34m(\u001b[0m\u001b[0;34m)\u001b[0m\u001b[0;34m,\u001b[0m \u001b[0;34m*\u001b[0m\u001b[0margs\u001b[0m\u001b[0;34m,\u001b[0m \u001b[0;34m**\u001b[0m\u001b[0mkwargs\u001b[0m\u001b[0;34m)\u001b[0m\u001b[0;34m\u001b[0m\u001b[0;34m\u001b[0m\u001b[0m\n\u001b[0m\u001b[1;32m    187\u001b[0m \u001b[0;34m\u001b[0m\u001b[0m\n\u001b[1;32m    188\u001b[0m     \u001b[0mwrapper\u001b[0m\u001b[0;34m.\u001b[0m\u001b[0mcache_clear\u001b[0m \u001b[0;34m=\u001b[0m \u001b[0mcached\u001b[0m\u001b[0;34m.\u001b[0m\u001b[0mcache_clear\u001b[0m\u001b[0;34m\u001b[0m\u001b[0;34m\u001b[0m\u001b[0m\n",
            "\u001b[0;32m/usr/local/lib/python3.7/dist-packages/jax/_src/util.py\u001b[0m in \u001b[0;36mcached\u001b[0;34m(_, *args, **kwargs)\u001b[0m\n\u001b[1;32m    177\u001b[0m     \u001b[0;34m@\u001b[0m\u001b[0mfunctools\u001b[0m\u001b[0;34m.\u001b[0m\u001b[0mlru_cache\u001b[0m\u001b[0;34m(\u001b[0m\u001b[0mmax_size\u001b[0m\u001b[0;34m)\u001b[0m\u001b[0;34m\u001b[0m\u001b[0;34m\u001b[0m\u001b[0m\n\u001b[1;32m    178\u001b[0m     \u001b[0;32mdef\u001b[0m \u001b[0mcached\u001b[0m\u001b[0;34m(\u001b[0m\u001b[0m_\u001b[0m\u001b[0;34m,\u001b[0m \u001b[0;34m*\u001b[0m\u001b[0margs\u001b[0m\u001b[0;34m,\u001b[0m \u001b[0;34m**\u001b[0m\u001b[0mkwargs\u001b[0m\u001b[0;34m)\u001b[0m\u001b[0;34m:\u001b[0m\u001b[0;34m\u001b[0m\u001b[0;34m\u001b[0m\u001b[0m\n\u001b[0;32m--> 179\u001b[0;31m       \u001b[0;32mreturn\u001b[0m \u001b[0mf\u001b[0m\u001b[0;34m(\u001b[0m\u001b[0;34m*\u001b[0m\u001b[0margs\u001b[0m\u001b[0;34m,\u001b[0m \u001b[0;34m**\u001b[0m\u001b[0mkwargs\u001b[0m\u001b[0;34m)\u001b[0m\u001b[0;34m\u001b[0m\u001b[0;34m\u001b[0m\u001b[0m\n\u001b[0m\u001b[1;32m    180\u001b[0m \u001b[0;34m\u001b[0m\u001b[0m\n\u001b[1;32m    181\u001b[0m     \u001b[0;34m@\u001b[0m\u001b[0mfunctools\u001b[0m\u001b[0;34m.\u001b[0m\u001b[0mwraps\u001b[0m\u001b[0;34m(\u001b[0m\u001b[0mf\u001b[0m\u001b[0;34m)\u001b[0m\u001b[0;34m\u001b[0m\u001b[0;34m\u001b[0m\u001b[0m\n",
            "\u001b[0;32m/usr/local/lib/python3.7/dist-packages/jax/experimental/pjit.py\u001b[0m in \u001b[0;36mpjit_callable\u001b[0;34m(jaxpr, in_axis_resources, out_axis_resources, resource_env, donated_invars, name)\u001b[0m\n\u001b[1;32m    418\u001b[0m                             \u001b[0min_axes\u001b[0m\u001b[0;34m,\u001b[0m \u001b[0mout_axes\u001b[0m\u001b[0;34m,\u001b[0m \u001b[0mdonated_invars\u001b[0m\u001b[0;34m,\u001b[0m\u001b[0;34m\u001b[0m\u001b[0;34m\u001b[0m\u001b[0m\n\u001b[1;32m    419\u001b[0m                             \u001b[0;32mTrue\u001b[0m\u001b[0;34m,\u001b[0m \u001b[0;34m*\u001b[0m\u001b[0mlocal_in_avals\u001b[0m\u001b[0;34m,\u001b[0m \u001b[0mtile_by_mesh_axes\u001b[0m\u001b[0;34m=\u001b[0m\u001b[0;32mFalse\u001b[0m\u001b[0;34m,\u001b[0m\u001b[0;34m\u001b[0m\u001b[0;34m\u001b[0m\u001b[0m\n\u001b[0;32m--> 420\u001b[0;31m                             do_resource_typecheck=\"pjit\")\n\u001b[0m\u001b[1;32m    421\u001b[0m \u001b[0;34m\u001b[0m\u001b[0m\n\u001b[1;32m    422\u001b[0m \u001b[0;34m\u001b[0m\u001b[0m\n",
            "\u001b[0;32m/usr/local/lib/python3.7/dist-packages/jax/interpreters/pxla.py\u001b[0m in \u001b[0;36mmesh_callable\u001b[0;34m(fun, transformed_name, backend_name, mesh, in_axes, out_axes, donated_invars, spmd_lowering, tile_by_mesh_axes, do_resource_typecheck, *local_in_untiled_avals)\u001b[0m\n\u001b[1;32m   1524\u001b[0m   \u001b[0mbuilt\u001b[0m \u001b[0;34m=\u001b[0m \u001b[0mc\u001b[0m\u001b[0;34m.\u001b[0m\u001b[0mBuild\u001b[0m\u001b[0;34m(\u001b[0m\u001b[0mout_tuple\u001b[0m\u001b[0;34m)\u001b[0m\u001b[0;34m\u001b[0m\u001b[0;34m\u001b[0m\u001b[0m\n\u001b[1;32m   1525\u001b[0m \u001b[0;34m\u001b[0m\u001b[0m\n\u001b[0;32m-> 1526\u001b[0;31m   return compile_and_wrap_mesh_hlo(built, backend, mesh, local_in_untiled_avals,\n\u001b[0m\u001b[1;32m   1527\u001b[0m                                    \u001b[0mlocal_out_untiled_avals\u001b[0m\u001b[0;34m,\u001b[0m \u001b[0min_axes\u001b[0m\u001b[0;34m,\u001b[0m \u001b[0mout_axes\u001b[0m\u001b[0;34m,\u001b[0m\u001b[0;34m\u001b[0m\u001b[0;34m\u001b[0m\u001b[0m\n\u001b[1;32m   1528\u001b[0m                                    spmd_lowering, tuple_args)\n",
            "\u001b[0;32m/usr/local/lib/python3.7/dist-packages/jax/interpreters/pxla.py\u001b[0m in \u001b[0;36mcompile_and_wrap_mesh_hlo\u001b[0;34m(computation, backend, mesh, local_in_untiled_avals, local_out_untiled_avals, in_axes, out_axes, spmd_lowering, tuple_args)\u001b[0m\n\u001b[1;32m   1568\u001b[0m   \u001b[0;32mif\u001b[0m \u001b[0mhasattr\u001b[0m\u001b[0;34m(\u001b[0m\u001b[0mbackend\u001b[0m\u001b[0;34m,\u001b[0m \u001b[0;34m\"compile_replicated\"\u001b[0m\u001b[0;34m)\u001b[0m\u001b[0;34m:\u001b[0m\u001b[0;34m\u001b[0m\u001b[0;34m\u001b[0m\u001b[0m\n\u001b[1;32m   1569\u001b[0m     return backend.compile_replicated(computation, compile_options,\n\u001b[0;32m-> 1570\u001b[0;31m                                       \u001b[0minput_indices\u001b[0m\u001b[0;34m,\u001b[0m \u001b[0mlocal_input_specs\u001b[0m\u001b[0;34m,\u001b[0m\u001b[0;34m\u001b[0m\u001b[0;34m\u001b[0m\u001b[0m\n\u001b[0m\u001b[1;32m   1571\u001b[0m                                       handle_outs)\n\u001b[1;32m   1572\u001b[0m   \u001b[0mcompiled\u001b[0m \u001b[0;34m=\u001b[0m \u001b[0mxla\u001b[0m\u001b[0;34m.\u001b[0m\u001b[0mcompile_or_get_cached\u001b[0m\u001b[0;34m(\u001b[0m\u001b[0mbackend\u001b[0m\u001b[0;34m,\u001b[0m \u001b[0mcomputation\u001b[0m\u001b[0;34m,\u001b[0m \u001b[0mcompile_options\u001b[0m\u001b[0;34m)\u001b[0m\u001b[0;34m\u001b[0m\u001b[0;34m\u001b[0m\u001b[0m\n",
            "\u001b[0;32m/usr/local/lib/python3.7/dist-packages/jax/interpreters/xla.py\u001b[0m in \u001b[0;36mbackend_compile\u001b[0;34m(backend, built_c, options)\u001b[0m\n\u001b[1;32m    358\u001b[0m   \u001b[0;32mtry\u001b[0m\u001b[0;34m:\u001b[0m\u001b[0;34m\u001b[0m\u001b[0;34m\u001b[0m\u001b[0m\n\u001b[1;32m    359\u001b[0m     \u001b[0;32mreturn\u001b[0m \u001b[0mc\u001b[0m\u001b[0;34m.\u001b[0m\u001b[0mbuild\u001b[0m\u001b[0;34m(\u001b[0m\u001b[0mans\u001b[0m\u001b[0;34m)\u001b[0m\u001b[0;34m\u001b[0m\u001b[0;34m\u001b[0m\u001b[0m\n\u001b[0;32m--> 360\u001b[0;31m   \u001b[0;32mexcept\u001b[0m \u001b[0mRuntimeError\u001b[0m \u001b[0;32mas\u001b[0m \u001b[0me\u001b[0m\u001b[0;34m:\u001b[0m\u001b[0;34m\u001b[0m\u001b[0;34m\u001b[0m\u001b[0m\n\u001b[0m\u001b[1;32m    361\u001b[0m     msg = (\" \".join(map(str, e.args)) + \"\\n\"\n\u001b[1;32m    362\u001b[0m            \u001b[0;34m\"This is a bug in JAX's shape-checking rules; please report it!\\n\"\u001b[0m\u001b[0;34m\u001b[0m\u001b[0;34m\u001b[0m\u001b[0m\n",
            "\u001b[0;31mRuntimeError\u001b[0m: Unimplemented: Only 1 computation per replica supported, 8 requested."
          ]
        }
      ]
    },
    {
      "cell_type": "code",
      "metadata": {
        "id": "nLz-wfL_pSYU"
      },
      "source": [
        ""
      ],
      "execution_count": null,
      "outputs": []
    }
  ]
}